{
 "cells": [
  {
   "cell_type": "code",
   "id": "d7d9cb57832d0114",
   "metadata": {
    "ExecuteTime": {
     "end_time": "2024-09-24T21:59:25.060066Z",
     "start_time": "2024-09-24T21:59:25.038302Z"
    }
   },
   "source": [
    "def xor_encryption(text, key):\n",
    "    encrypted = \"\"\n",
    "    \n",
    "    for i in range(len(text)):\n",
    "        encrypted += chr(ord(text[i]) ^ ord(key[i % len(key)]))\n",
    "    \n",
    "    return encrypted"
   ],
   "outputs": [],
   "execution_count": 22
  },
  {
   "metadata": {
    "collapsed": true,
    "ExecuteTime": {
     "end_time": "2024-09-24T21:59:25.099068Z",
     "start_time": "2024-09-24T21:59:25.081721Z"
    }
   },
   "cell_type": "code",
   "source": [
    "text = \"Text which will be encrypted\"\n",
    "key = \"SECRET_KEY\"\n",
    "\n",
    "encrypted = xor_encryption(text, key)\n",
    "\n",
    "print(f'Encrypted Text: {encrypted}')\n",
    "print(f'Encrypted Text length: {len(encrypted)}')\n",
    "print(f'Plain Text length: {len(text)}')"
   ],
   "id": "initial_id",
   "outputs": [
    {
     "name": "stdout",
     "output_type": "stream",
     "text": [
      "Encrypted Text: \u0007 ;&e#7\"&1s2*>)t=.e<=&1+5 :/\n",
      "Encrypted Text length: 28\n",
      "Plain Text length: 28\n"
     ]
    }
   ],
   "execution_count": 23
  },
  {
   "metadata": {
    "ExecuteTime": {
     "end_time": "2024-09-24T21:59:25.208520Z",
     "start_time": "2024-09-24T21:59:25.199611Z"
    }
   },
   "cell_type": "code",
   "source": [
    "decrypted = xor_encryption(encrypted, key)\n",
    "\n",
    "print(f'Encrypted Text: {decrypted}')"
   ],
   "id": "791216520ece9d14",
   "outputs": [
    {
     "name": "stdout",
     "output_type": "stream",
     "text": [
      "Encrypted Text: Text which will be encrypted\n"
     ]
    }
   ],
   "execution_count": 24
  },
  {
   "metadata": {
    "ExecuteTime": {
     "end_time": "2024-09-24T21:59:25.326202Z",
     "start_time": "2024-09-24T21:59:25.317307Z"
    }
   },
   "cell_type": "code",
   "source": [
    "found_key = xor_encryption(encrypted, decrypted)\n",
    "\n",
    "print(f'Key: {found_key}')"
   ],
   "id": "41830428f2385792",
   "outputs": [
    {
     "name": "stdout",
     "output_type": "stream",
     "text": [
      "Key: SECRET_KEYSECRET_KEYSECRET_K\n"
     ]
    }
   ],
   "execution_count": 25
  },
  {
   "metadata": {
    "ExecuteTime": {
     "end_time": "2024-09-24T21:59:25.415919Z",
     "start_time": "2024-09-24T21:59:25.403409Z"
    }
   },
   "cell_type": "code",
   "source": [
    "def find_repetitive_part(test_str):\n",
    "    n = len(test_str)\n",
    "\n",
    "    for i in range(1, n // 2 + 1):\n",
    "        part = test_str[:i]\n",
    "        repetitions = n // i\n",
    "        if part * repetitions == test_str[:i * repetitions]:\n",
    "            return part\n",
    "\n",
    "    return \"No repetitive part found\"\n",
    "\n",
    "print(f'Key: {find_repetitive_part(found_key)}')"
   ],
   "id": "6ffdac75e91df4e6",
   "outputs": [
    {
     "name": "stdout",
     "output_type": "stream",
     "text": [
      "Key: SECRET_KEY\n"
     ]
    }
   ],
   "execution_count": 26
  }
 ],
 "metadata": {
  "kernelspec": {
   "display_name": "Python 3",
   "language": "python",
   "name": "python3"
  },
  "language_info": {
   "codemirror_mode": {
    "name": "ipython",
    "version": 2
   },
   "file_extension": ".py",
   "mimetype": "text/x-python",
   "name": "python",
   "nbconvert_exporter": "python",
   "pygments_lexer": "ipython2",
   "version": "2.7.6"
  }
 },
 "nbformat": 4,
 "nbformat_minor": 5
}
